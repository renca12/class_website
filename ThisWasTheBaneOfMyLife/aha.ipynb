{
 "cells": [
  {
   "cell_type": "code",
   "execution_count": null,
   "id": "4064f070-e56b-49bf-af2d-ecd9013b319e",
   "metadata": {},
   "outputs": [],
   "source": [
    "import pandas as pd"
   ]
  },
  {
   "cell_type": "code",
   "execution_count": null,
   "id": "c8dad1af-bf86-48e9-9440-e5f4e904ee6c",
   "metadata": {},
   "outputs": [],
   "source": [
    "df = pd.read_csv(\"socialMedia.csv\")\n",
    "df['Likes'] = pd.to_numeric(df['Likes'], errors='coerce')\n",
    "avg_likes_df = df.groupby(['Platform', 'PostType'], as_index=False)['Likes'].mean()\n",
    "avg_likes_df.rename(columns={'Likes': 'AvgLikes'}, inplace=True)\n",
    "\n",
    "avg_likes_df.to_csv(\"socialMediaAvg.csv\", index=False)"
   ]
  },
  {
   "cell_type": "code",
   "execution_count": null,
   "id": "70694b4c-c833-4bbd-a80f-50d0289a9424",
   "metadata": {},
   "outputs": [],
   "source": [
    "df = pd.read_csv(\"socialMedia.csv\")\n",
    "df['Likes'] = pd.to_numeric(df['Likes'], errors='coerce')\n",
    "\n",
    "df['Date'] = df['Date'].apply(lambda x: x.split('(')[0].strip() if pd.notnull(x) else x)\n",
    "\n",
    "avg_likes_date_df = df.groupby('Date', as_index=False)['Likes'].mean()\n",
    "avg_likes_date_df.rename(columns={'Likes': 'AvgLikes'}, inplace=True)\n",
    "\n",
    "avg_likes_date_df['Date'] = pd.to_datetime(avg_likes_date_df['Date'], errors='coerce')\n",
    "avg_likes_date_df = avg_likes_date_df.dropna(subset=['Date']).sort_values(by='Date')\n",
    "\n",
    "avg_likes_date_df.to_csv(\"socialMediaTime.csv\", index=False)\n",
    "print(\"it worked!\")"
   ]
  }
 ],
 "metadata": {
  "kernelspec": {
   "display_name": "Python 3 (ipykernel)",
   "language": "python",
   "name": "python3"
  },
  "language_info": {
   "codemirror_mode": {
    "name": "ipython",
    "version": 3
   },
   "file_extension": ".py",
   "mimetype": "text/x-python",
   "name": "python",
   "nbconvert_exporter": "python",
   "pygments_lexer": "ipython3",
   "version": "3.12.2"
  }
 },
 "nbformat": 4,
 "nbformat_minor": 5
}
